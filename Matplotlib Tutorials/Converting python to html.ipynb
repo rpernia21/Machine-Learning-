{
 "cells": [
  {
   "cell_type": "markdown",
   "id": "9174c820-fd13-4a33-a7d6-aa022ee89d0f",
   "metadata": {},
   "source": [
    "## **How to convert and export python codes as pdf and html**"
   ]
  },
  {
   "cell_type": "code",
   "execution_count": 3,
   "id": "abadedeb-b705-4fc6-9759-988a49d073ca",
   "metadata": {},
   "outputs": [
    {
     "ename": "SyntaxError",
     "evalue": "invalid syntax (Temp/ipykernel_17120/1608195200.py, line 13)",
     "output_type": "error",
     "traceback": [
      "\u001b[1;36m  File \u001b[1;32m\"C:\\Users\\User\\AppData\\Local\\Temp/ipykernel_17120/1608195200.py\"\u001b[1;36m, line \u001b[1;32m13\u001b[0m\n\u001b[1;33m    def export_to_html(\"Matplotlib-Part5\"):\u001b[0m\n\u001b[1;37m                       ^\u001b[0m\n\u001b[1;31mSyntaxError\u001b[0m\u001b[1;31m:\u001b[0m invalid syntax\n"
     ]
    }
   ],
   "source": [
    "# Script adapted from CloudCray\n",
    "# Original Source: https://gist.github.com/CloudCray/994dd361dece0463f64a\n",
    "# 2016--06-29\n",
    "# This will create both an HTML and a PDF file\n",
    "\n",
    "import subprocess\n",
    "import os\n",
    "from Tkinter import Tk\n",
    "from tkFileDialog import askopenfilename\n",
    "\n",
    "WKHTMLTOPDF_PATH = \"C:/Users/User/Desktop/Python Files/Statistical Analysis/Matplotlib Tutorial\"  # or wherever you keep it\n",
    "\n",
    "def export_to_html(\"Matplotlib-Part5\"):\n",
    "    cmd = 'ipython nbconvert --to html \"{0}\"'\n",
    "    subprocess.call(cmd.format(\"Matplotlib-Part5\"), shell=True)\n",
    "    return filename.replace(\".ipynb\", \".html\")\n",
    "\n",
    "\n",
    "def convert_to_pdf(\"Matplotlib-Part5\"):\n",
    "    cmd = '\"{0}\" \"{1}\" \"{2}\"'.format(WKHTMLTOPDF_PATH, \"Matplotlib-Part5\", \"Matplotlib-Part5\".replace(\".html\", \".pdf\"))\n",
    "    subprocess.call(cmd, shell=True)\n",
    "    return filename.replace(\".html\", \".pdf\")\n",
    "\n",
    "\n",
    "def export_to_pdf(\"Matplotlib-Part5\"):\n",
    "    fn = export_to_html(\"Matplotlib-Part5\")\n",
    "    return convert_to_pdf(fn)\n",
    "\n",
    "def main():\n",
    "    print(\"Export IPython notebook to PDF\")\n",
    "    print(\"    Please select a notebook:\")\n",
    "\n",
    "    Tk().withdraw() # Starts in folder from which it is started, keep the root window from appearing \n",
    "    x = askopenfilename() # show an \"Open\" dialog box and return the path to the selected file\n",
    "    x = str(x.split(\"/\")[-1])\n",
    "\n",
    "    print(x)\n",
    "\n",
    "    if not x:\n",
    "        print(\"No notebook selected.\")\n",
    "        return 0\n",
    "    else:\n",
    "        fn = export_to_pdf(x)\n",
    "        print(\"File exported as:\\n\\t{0}\".format(fn))\n",
    "        return 1\n",
    "\n",
    "main()"
   ]
  }
 ],
 "metadata": {
  "kernelspec": {
   "display_name": "Python 3 (ipykernel)",
   "language": "python",
   "name": "python3"
  },
  "language_info": {
   "codemirror_mode": {
    "name": "ipython",
    "version": 3
   },
   "file_extension": ".py",
   "mimetype": "text/x-python",
   "name": "python",
   "nbconvert_exporter": "python",
   "pygments_lexer": "ipython3",
   "version": "3.8.12"
  }
 },
 "nbformat": 4,
 "nbformat_minor": 5
}

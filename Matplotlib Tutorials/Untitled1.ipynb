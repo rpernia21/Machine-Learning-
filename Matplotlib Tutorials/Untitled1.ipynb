{
 "cells": [
  {
   "cell_type": "code",
   "execution_count": 1,
   "id": "424a1d63-87c0-4493-8b47-24172701a9fb",
   "metadata": {},
   "outputs": [],
   "source": [
    "import pandas as pd"
   ]
  },
  {
   "cell_type": "code",
   "execution_count": 3,
   "id": "09402d5b-234b-46c5-80b3-4081d63a41a6",
   "metadata": {},
   "outputs": [
    {
     "data": {
      "text/html": [
       "<div>\n",
       "<style scoped>\n",
       "    .dataframe tbody tr th:only-of-type {\n",
       "        vertical-align: middle;\n",
       "    }\n",
       "\n",
       "    .dataframe tbody tr th {\n",
       "        vertical-align: top;\n",
       "    }\n",
       "\n",
       "    .dataframe thead th {\n",
       "        text-align: right;\n",
       "    }\n",
       "</style>\n",
       "<table border=\"1\" class=\"dataframe\">\n",
       "  <thead>\n",
       "    <tr style=\"text-align: right;\">\n",
       "      <th></th>\n",
       "      <th>Date</th>\n",
       "      <th>Open</th>\n",
       "      <th>High</th>\n",
       "      <th>Low</th>\n",
       "      <th>Close</th>\n",
       "      <th>Adj Close</th>\n",
       "      <th>Volume</th>\n",
       "    </tr>\n",
       "  </thead>\n",
       "  <tbody>\n",
       "    <tr>\n",
       "      <th>0</th>\n",
       "      <td>2019-05-18</td>\n",
       "      <td>7266.080078</td>\n",
       "      <td>8281.660156</td>\n",
       "      <td>7257.259766</td>\n",
       "      <td>8193.139648</td>\n",
       "      <td>8193.139648</td>\n",
       "      <td>723011166</td>\n",
       "    </tr>\n",
       "    <tr>\n",
       "      <th>1</th>\n",
       "      <td>2019-05-19</td>\n",
       "      <td>8193.139648</td>\n",
       "      <td>8193.139648</td>\n",
       "      <td>7591.850098</td>\n",
       "      <td>7998.290039</td>\n",
       "      <td>7998.290039</td>\n",
       "      <td>637617163</td>\n",
       "    </tr>\n",
       "    <tr>\n",
       "      <th>2</th>\n",
       "      <td>2019-05-20</td>\n",
       "      <td>7998.290039</td>\n",
       "      <td>8102.319824</td>\n",
       "      <td>7807.770020</td>\n",
       "      <td>7947.930176</td>\n",
       "      <td>7947.930176</td>\n",
       "      <td>357803946</td>\n",
       "    </tr>\n",
       "    <tr>\n",
       "      <th>3</th>\n",
       "      <td>2019-05-21</td>\n",
       "      <td>7947.930176</td>\n",
       "      <td>8033.759766</td>\n",
       "      <td>7533.660156</td>\n",
       "      <td>7626.890137</td>\n",
       "      <td>7626.890137</td>\n",
       "      <td>424501866</td>\n",
       "    </tr>\n",
       "    <tr>\n",
       "      <th>4</th>\n",
       "      <td>2019-05-22</td>\n",
       "      <td>7626.890137</td>\n",
       "      <td>7971.259766</td>\n",
       "      <td>7478.740234</td>\n",
       "      <td>7876.500000</td>\n",
       "      <td>7876.500000</td>\n",
       "      <td>386766321</td>\n",
       "    </tr>\n",
       "  </tbody>\n",
       "</table>\n",
       "</div>"
      ],
      "text/plain": [
       "         Date         Open         High          Low        Close  \\\n",
       "0  2019-05-18  7266.080078  8281.660156  7257.259766  8193.139648   \n",
       "1  2019-05-19  8193.139648  8193.139648  7591.850098  7998.290039   \n",
       "2  2019-05-20  7998.290039  8102.319824  7807.770020  7947.930176   \n",
       "3  2019-05-21  7947.930176  8033.759766  7533.660156  7626.890137   \n",
       "4  2019-05-22  7626.890137  7971.259766  7478.740234  7876.500000   \n",
       "\n",
       "     Adj Close     Volume  \n",
       "0  8193.139648  723011166  \n",
       "1  7998.290039  637617163  \n",
       "2  7947.930176  357803946  \n",
       "3  7626.890137  424501866  \n",
       "4  7876.500000  386766321  "
      ]
     },
     "execution_count": 3,
     "metadata": {},
     "output_type": "execute_result"
    }
   ],
   "source": [
    "data = pd.read_csv('data8.txt')\n",
    "data.head()"
   ]
  },
  {
   "cell_type": "code",
   "execution_count": 7,
   "id": "3e2a7524-d846-47d3-b6e8-d62b3b4a8c01",
   "metadata": {},
   "outputs": [],
   "source": [
    "data.to_csv('data8.csv')"
   ]
  }
 ],
 "metadata": {
  "kernelspec": {
   "display_name": "Python 3 (ipykernel)",
   "language": "python",
   "name": "python3"
  },
  "language_info": {
   "codemirror_mode": {
    "name": "ipython",
    "version": 3
   },
   "file_extension": ".py",
   "mimetype": "text/x-python",
   "name": "python",
   "nbconvert_exporter": "python",
   "pygments_lexer": "ipython3",
   "version": "3.8.12"
  }
 },
 "nbformat": 4,
 "nbformat_minor": 5
}

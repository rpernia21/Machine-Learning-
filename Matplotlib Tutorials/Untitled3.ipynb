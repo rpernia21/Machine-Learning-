{
 "cells": [
  {
   "cell_type": "code",
   "execution_count": 2,
   "id": "ef193820-bcec-4d7e-a8c9-1004c5cac75e",
   "metadata": {},
   "outputs": [],
   "source": [
    "import numpy as np\n",
    "import pandas as pd\n",
    "\n",
    "import matplotlib\n",
    "import matplotlib.pyplot as pp"
   ]
  },
  {
   "cell_type": "code",
   "execution_count": 4,
   "id": "3d257ced-d35f-412b-9c40-bfac2fca8118",
   "metadata": {},
   "outputs": [
    {
     "data": {
      "text/html": [
       "<div>\n",
       "<style scoped>\n",
       "    .dataframe tbody tr th:only-of-type {\n",
       "        vertical-align: middle;\n",
       "    }\n",
       "\n",
       "    .dataframe tbody tr th {\n",
       "        vertical-align: top;\n",
       "    }\n",
       "\n",
       "    .dataframe thead th {\n",
       "        text-align: right;\n",
       "    }\n",
       "</style>\n",
       "<table border=\"1\" class=\"dataframe\">\n",
       "  <thead>\n",
       "    <tr style=\"text-align: right;\">\n",
       "      <th></th>\n",
       "      <th>Authors</th>\n",
       "      <th>Title</th>\n",
       "      <th>Journal</th>\n",
       "      <th>Publisher</th>\n",
       "      <th>Year</th>\n",
       "      <th>Research Areas</th>\n",
       "      <th>Unnamed: 6</th>\n",
       "    </tr>\n",
       "  </thead>\n",
       "  <tbody>\n",
       "    <tr>\n",
       "      <th>0</th>\n",
       "      <td>KOWALEWSKI, D</td>\n",
       "      <td>COUNTERINSURGENT VIGILANTISM AND PUBLIC RESPON...</td>\n",
       "      <td>SOCIOLOGICAL PERSPECTIVES</td>\n",
       "      <td>JAI PRESS INC</td>\n",
       "      <td>1991.0</td>\n",
       "      <td>Sociology</td>\n",
       "      <td>NaN</td>\n",
       "    </tr>\n",
       "    <tr>\n",
       "      <th>1</th>\n",
       "      <td>Ruland, J</td>\n",
       "      <td>Constitutional debates in the Philippines - Fr...</td>\n",
       "      <td>ASIAN SURVEY</td>\n",
       "      <td>UNIV CALIFORNIA PRESS</td>\n",
       "      <td>2003.0</td>\n",
       "      <td>Area Studies</td>\n",
       "      <td>NaN</td>\n",
       "    </tr>\n",
       "    <tr>\n",
       "      <th>2</th>\n",
       "      <td>Kessler, C; Ruland, J</td>\n",
       "      <td>Responses to rapid social change: Populist rel...</td>\n",
       "      <td>PACIFIC AFFAIRS</td>\n",
       "      <td>PACIFIC AFFAIRS UNIV BRITISH COLUMBIA</td>\n",
       "      <td>2006.0</td>\n",
       "      <td>Area Studies</td>\n",
       "      <td>NaN</td>\n",
       "    </tr>\n",
       "    <tr>\n",
       "      <th>3</th>\n",
       "      <td>De Castro, RC</td>\n",
       "      <td>The 1997 Asian financial crisis and the reviva...</td>\n",
       "      <td>ASIAN SURVEY</td>\n",
       "      <td>UNIV CALIFORNIA PRESS</td>\n",
       "      <td>2007.0</td>\n",
       "      <td>Area Studies</td>\n",
       "      <td>NaN</td>\n",
       "    </tr>\n",
       "    <tr>\n",
       "      <th>4</th>\n",
       "      <td>Thompson, MR</td>\n",
       "      <td>REFORMISM VS. POPULISM IN THE PHILIPPINES</td>\n",
       "      <td>JOURNAL OF DEMOCRACY</td>\n",
       "      <td>JOHNS HOPKINS UNIV PRESS</td>\n",
       "      <td>2010.0</td>\n",
       "      <td>Government &amp; Law</td>\n",
       "      <td>NaN</td>\n",
       "    </tr>\n",
       "    <tr>\n",
       "      <th>...</th>\n",
       "      <td>...</td>\n",
       "      <td>...</td>\n",
       "      <td>...</td>\n",
       "      <td>...</td>\n",
       "      <td>...</td>\n",
       "      <td>...</td>\n",
       "      <td>...</td>\n",
       "    </tr>\n",
       "    <tr>\n",
       "      <th>988</th>\n",
       "      <td>NaN</td>\n",
       "      <td>NaN</td>\n",
       "      <td>NaN</td>\n",
       "      <td>NaN</td>\n",
       "      <td>NaN</td>\n",
       "      <td>NaN</td>\n",
       "      <td>NaN</td>\n",
       "    </tr>\n",
       "    <tr>\n",
       "      <th>989</th>\n",
       "      <td>NaN</td>\n",
       "      <td>NaN</td>\n",
       "      <td>NaN</td>\n",
       "      <td>NaN</td>\n",
       "      <td>NaN</td>\n",
       "      <td>NaN</td>\n",
       "      <td>NaN</td>\n",
       "    </tr>\n",
       "    <tr>\n",
       "      <th>990</th>\n",
       "      <td>NaN</td>\n",
       "      <td>NaN</td>\n",
       "      <td>NaN</td>\n",
       "      <td>NaN</td>\n",
       "      <td>NaN</td>\n",
       "      <td>NaN</td>\n",
       "      <td>NaN</td>\n",
       "    </tr>\n",
       "    <tr>\n",
       "      <th>991</th>\n",
       "      <td>NaN</td>\n",
       "      <td>NaN</td>\n",
       "      <td>NaN</td>\n",
       "      <td>NaN</td>\n",
       "      <td>NaN</td>\n",
       "      <td>NaN</td>\n",
       "      <td>NaN</td>\n",
       "    </tr>\n",
       "    <tr>\n",
       "      <th>992</th>\n",
       "      <td>NaN</td>\n",
       "      <td>NaN</td>\n",
       "      <td>NaN</td>\n",
       "      <td>NaN</td>\n",
       "      <td>NaN</td>\n",
       "      <td>NaN</td>\n",
       "      <td>NaN</td>\n",
       "    </tr>\n",
       "  </tbody>\n",
       "</table>\n",
       "<p>993 rows × 7 columns</p>\n",
       "</div>"
      ],
      "text/plain": [
       "                   Authors                                              Title  \\\n",
       "0            KOWALEWSKI, D  COUNTERINSURGENT VIGILANTISM AND PUBLIC RESPON...   \n",
       "1                Ruland, J  Constitutional debates in the Philippines - Fr...   \n",
       "2    Kessler, C; Ruland, J  Responses to rapid social change: Populist rel...   \n",
       "3            De Castro, RC  The 1997 Asian financial crisis and the reviva...   \n",
       "4             Thompson, MR          REFORMISM VS. POPULISM IN THE PHILIPPINES   \n",
       "..                     ...                                                ...   \n",
       "988                    NaN                                                NaN   \n",
       "989                    NaN                                                NaN   \n",
       "990                    NaN                                                NaN   \n",
       "991                    NaN                                                NaN   \n",
       "992                    NaN                                                NaN   \n",
       "\n",
       "                       Journal                              Publisher    Year  \\\n",
       "0    SOCIOLOGICAL PERSPECTIVES                          JAI PRESS INC  1991.0   \n",
       "1                 ASIAN SURVEY                  UNIV CALIFORNIA PRESS  2003.0   \n",
       "2              PACIFIC AFFAIRS  PACIFIC AFFAIRS UNIV BRITISH COLUMBIA  2006.0   \n",
       "3                 ASIAN SURVEY                  UNIV CALIFORNIA PRESS  2007.0   \n",
       "4         JOURNAL OF DEMOCRACY               JOHNS HOPKINS UNIV PRESS  2010.0   \n",
       "..                         ...                                    ...     ...   \n",
       "988                        NaN                                    NaN     NaN   \n",
       "989                        NaN                                    NaN     NaN   \n",
       "990                        NaN                                    NaN     NaN   \n",
       "991                        NaN                                    NaN     NaN   \n",
       "992                        NaN                                    NaN     NaN   \n",
       "\n",
       "       Research Areas  Unnamed: 6  \n",
       "0           Sociology         NaN  \n",
       "1        Area Studies         NaN  \n",
       "2        Area Studies         NaN  \n",
       "3        Area Studies         NaN  \n",
       "4    Government & Law         NaN  \n",
       "..                ...         ...  \n",
       "988               NaN         NaN  \n",
       "989               NaN         NaN  \n",
       "990               NaN         NaN  \n",
       "991               NaN         NaN  \n",
       "992               NaN         NaN  \n",
       "\n",
       "[993 rows x 7 columns]"
      ]
     },
     "execution_count": 4,
     "metadata": {},
     "output_type": "execute_result"
    }
   ],
   "source": [
    "duterte = pd.read_csv('Beyond duterte_dataset.csv')\n",
    "duterte"
   ]
  },
  {
   "cell_type": "code",
   "execution_count": 1,
   "id": "355528e3-20f0-474d-969e-9dfd63dec219",
   "metadata": {},
   "outputs": [],
   "source": [
    "from matplotlib import pyplot as plt\n",
    "\n",
    "plt.style.use(\"fivethirtyeight\")"
   ]
  },
  {
   "cell_type": "code",
   "execution_count": 5,
   "id": "ca4067e4-619c-4784-8064-a08d2cbddefa",
   "metadata": {},
   "outputs": [
    {
     "data": {
      "text/html": [
       "<div>\n",
       "<style scoped>\n",
       "    .dataframe tbody tr th:only-of-type {\n",
       "        vertical-align: middle;\n",
       "    }\n",
       "\n",
       "    .dataframe tbody tr th {\n",
       "        vertical-align: top;\n",
       "    }\n",
       "\n",
       "    .dataframe thead th {\n",
       "        text-align: right;\n",
       "    }\n",
       "</style>\n",
       "<table border=\"1\" class=\"dataframe\">\n",
       "  <thead>\n",
       "    <tr style=\"text-align: right;\">\n",
       "      <th></th>\n",
       "      <th>Authors</th>\n",
       "      <th>Title</th>\n",
       "      <th>Journal</th>\n",
       "      <th>Publisher</th>\n",
       "      <th>Year</th>\n",
       "      <th>Research Areas</th>\n",
       "      <th>Unnamed: 6</th>\n",
       "    </tr>\n",
       "  </thead>\n",
       "  <tbody>\n",
       "    <tr>\n",
       "      <th>0</th>\n",
       "      <td>KOWALEWSKI, D</td>\n",
       "      <td>COUNTERINSURGENT VIGILANTISM AND PUBLIC RESPON...</td>\n",
       "      <td>SOCIOLOGICAL PERSPECTIVES</td>\n",
       "      <td>JAI PRESS INC</td>\n",
       "      <td>1991.0</td>\n",
       "      <td>Sociology</td>\n",
       "      <td>NaN</td>\n",
       "    </tr>\n",
       "    <tr>\n",
       "      <th>1</th>\n",
       "      <td>Ruland, J</td>\n",
       "      <td>Constitutional debates in the Philippines - Fr...</td>\n",
       "      <td>ASIAN SURVEY</td>\n",
       "      <td>UNIV CALIFORNIA PRESS</td>\n",
       "      <td>2003.0</td>\n",
       "      <td>Area Studies</td>\n",
       "      <td>NaN</td>\n",
       "    </tr>\n",
       "    <tr>\n",
       "      <th>2</th>\n",
       "      <td>Kessler, C; Ruland, J</td>\n",
       "      <td>Responses to rapid social change: Populist rel...</td>\n",
       "      <td>PACIFIC AFFAIRS</td>\n",
       "      <td>PACIFIC AFFAIRS UNIV BRITISH COLUMBIA</td>\n",
       "      <td>2006.0</td>\n",
       "      <td>Area Studies</td>\n",
       "      <td>NaN</td>\n",
       "    </tr>\n",
       "    <tr>\n",
       "      <th>3</th>\n",
       "      <td>De Castro, RC</td>\n",
       "      <td>The 1997 Asian financial crisis and the reviva...</td>\n",
       "      <td>ASIAN SURVEY</td>\n",
       "      <td>UNIV CALIFORNIA PRESS</td>\n",
       "      <td>2007.0</td>\n",
       "      <td>Area Studies</td>\n",
       "      <td>NaN</td>\n",
       "    </tr>\n",
       "    <tr>\n",
       "      <th>4</th>\n",
       "      <td>Thompson, MR</td>\n",
       "      <td>REFORMISM VS. POPULISM IN THE PHILIPPINES</td>\n",
       "      <td>JOURNAL OF DEMOCRACY</td>\n",
       "      <td>JOHNS HOPKINS UNIV PRESS</td>\n",
       "      <td>2010.0</td>\n",
       "      <td>Government &amp; Law</td>\n",
       "      <td>NaN</td>\n",
       "    </tr>\n",
       "  </tbody>\n",
       "</table>\n",
       "</div>"
      ],
      "text/plain": [
       "                 Authors                                              Title  \\\n",
       "0          KOWALEWSKI, D  COUNTERINSURGENT VIGILANTISM AND PUBLIC RESPON...   \n",
       "1              Ruland, J  Constitutional debates in the Philippines - Fr...   \n",
       "2  Kessler, C; Ruland, J  Responses to rapid social change: Populist rel...   \n",
       "3          De Castro, RC  The 1997 Asian financial crisis and the reviva...   \n",
       "4           Thompson, MR          REFORMISM VS. POPULISM IN THE PHILIPPINES   \n",
       "\n",
       "                     Journal                              Publisher    Year  \\\n",
       "0  SOCIOLOGICAL PERSPECTIVES                          JAI PRESS INC  1991.0   \n",
       "1               ASIAN SURVEY                  UNIV CALIFORNIA PRESS  2003.0   \n",
       "2            PACIFIC AFFAIRS  PACIFIC AFFAIRS UNIV BRITISH COLUMBIA  2006.0   \n",
       "3               ASIAN SURVEY                  UNIV CALIFORNIA PRESS  2007.0   \n",
       "4       JOURNAL OF DEMOCRACY               JOHNS HOPKINS UNIV PRESS  2010.0   \n",
       "\n",
       "     Research Areas  Unnamed: 6  \n",
       "0         Sociology         NaN  \n",
       "1      Area Studies         NaN  \n",
       "2      Area Studies         NaN  \n",
       "3      Area Studies         NaN  \n",
       "4  Government & Law         NaN  "
      ]
     },
     "execution_count": 5,
     "metadata": {},
     "output_type": "execute_result"
    }
   ],
   "source": [
    "duterte.head()"
   ]
  },
  {
   "cell_type": "code",
   "execution_count": 6,
   "id": "cf9aa7c7-0264-46b2-955f-ef896d3ba3fd",
   "metadata": {},
   "outputs": [
    {
     "data": {
      "text/plain": [
       "Index(['Authors', 'Title', 'Journal', 'Publisher', 'Year', 'Research Areas',\n",
       "       'Unnamed: 6'],\n",
       "      dtype='object')"
      ]
     },
     "execution_count": 6,
     "metadata": {},
     "output_type": "execute_result"
    }
   ],
   "source": [
    "duterte.columns"
   ]
  },
  {
   "cell_type": "code",
   "execution_count": 7,
   "id": "dae9b459-c5ab-4ac7-985b-321c2782db24",
   "metadata": {},
   "outputs": [
    {
     "data": {
      "text/plain": [
       "<pandas.core.indexing._iLocIndexer at 0x1d3011e70e0>"
      ]
     },
     "execution_count": 7,
     "metadata": {},
     "output_type": "execute_result"
    }
   ],
   "source": [
    "duterte.iloc"
   ]
  },
  {
   "cell_type": "code",
   "execution_count": 8,
   "id": "fec448d3-88f5-40c8-a3f5-faaaa48767a2",
   "metadata": {},
   "outputs": [
    {
     "data": {
      "text/html": [
       "<div>\n",
       "<style scoped>\n",
       "    .dataframe tbody tr th:only-of-type {\n",
       "        vertical-align: middle;\n",
       "    }\n",
       "\n",
       "    .dataframe tbody tr th {\n",
       "        vertical-align: top;\n",
       "    }\n",
       "\n",
       "    .dataframe thead th {\n",
       "        text-align: right;\n",
       "    }\n",
       "</style>\n",
       "<table border=\"1\" class=\"dataframe\">\n",
       "  <thead>\n",
       "    <tr style=\"text-align: right;\">\n",
       "      <th></th>\n",
       "      <th>Authors</th>\n",
       "      <th>Journal</th>\n",
       "      <th>Year</th>\n",
       "    </tr>\n",
       "  </thead>\n",
       "  <tbody>\n",
       "    <tr>\n",
       "      <th>0</th>\n",
       "      <td>KOWALEWSKI, D</td>\n",
       "      <td>SOCIOLOGICAL PERSPECTIVES</td>\n",
       "      <td>1991.0</td>\n",
       "    </tr>\n",
       "    <tr>\n",
       "      <th>1</th>\n",
       "      <td>Ruland, J</td>\n",
       "      <td>ASIAN SURVEY</td>\n",
       "      <td>2003.0</td>\n",
       "    </tr>\n",
       "    <tr>\n",
       "      <th>2</th>\n",
       "      <td>Kessler, C; Ruland, J</td>\n",
       "      <td>PACIFIC AFFAIRS</td>\n",
       "      <td>2006.0</td>\n",
       "    </tr>\n",
       "    <tr>\n",
       "      <th>3</th>\n",
       "      <td>De Castro, RC</td>\n",
       "      <td>ASIAN SURVEY</td>\n",
       "      <td>2007.0</td>\n",
       "    </tr>\n",
       "    <tr>\n",
       "      <th>4</th>\n",
       "      <td>Thompson, MR</td>\n",
       "      <td>JOURNAL OF DEMOCRACY</td>\n",
       "      <td>2010.0</td>\n",
       "    </tr>\n",
       "    <tr>\n",
       "      <th>...</th>\n",
       "      <td>...</td>\n",
       "      <td>...</td>\n",
       "      <td>...</td>\n",
       "    </tr>\n",
       "    <tr>\n",
       "      <th>988</th>\n",
       "      <td>NaN</td>\n",
       "      <td>NaN</td>\n",
       "      <td>NaN</td>\n",
       "    </tr>\n",
       "    <tr>\n",
       "      <th>989</th>\n",
       "      <td>NaN</td>\n",
       "      <td>NaN</td>\n",
       "      <td>NaN</td>\n",
       "    </tr>\n",
       "    <tr>\n",
       "      <th>990</th>\n",
       "      <td>NaN</td>\n",
       "      <td>NaN</td>\n",
       "      <td>NaN</td>\n",
       "    </tr>\n",
       "    <tr>\n",
       "      <th>991</th>\n",
       "      <td>NaN</td>\n",
       "      <td>NaN</td>\n",
       "      <td>NaN</td>\n",
       "    </tr>\n",
       "    <tr>\n",
       "      <th>992</th>\n",
       "      <td>NaN</td>\n",
       "      <td>NaN</td>\n",
       "      <td>NaN</td>\n",
       "    </tr>\n",
       "  </tbody>\n",
       "</table>\n",
       "<p>993 rows × 3 columns</p>\n",
       "</div>"
      ],
      "text/plain": [
       "                   Authors                    Journal    Year\n",
       "0            KOWALEWSKI, D  SOCIOLOGICAL PERSPECTIVES  1991.0\n",
       "1                Ruland, J               ASIAN SURVEY  2003.0\n",
       "2    Kessler, C; Ruland, J            PACIFIC AFFAIRS  2006.0\n",
       "3            De Castro, RC               ASIAN SURVEY  2007.0\n",
       "4             Thompson, MR       JOURNAL OF DEMOCRACY  2010.0\n",
       "..                     ...                        ...     ...\n",
       "988                    NaN                        NaN     NaN\n",
       "989                    NaN                        NaN     NaN\n",
       "990                    NaN                        NaN     NaN\n",
       "991                    NaN                        NaN     NaN\n",
       "992                    NaN                        NaN     NaN\n",
       "\n",
       "[993 rows x 3 columns]"
      ]
     },
     "execution_count": 8,
     "metadata": {},
     "output_type": "execute_result"
    }
   ],
   "source": [
    "duterte.filter(items=['Authors','Journal','Year'])"
   ]
  },
  {
   "cell_type": "raw",
   "id": "24a2c66a-e2ba-4a0d-b671-1db512ed2ef5",
   "metadata": {},
   "source": [
    "= duterte['DataFrame Column'].astype(int)"
   ]
  },
  {
   "cell_type": "code",
   "execution_count": 16,
   "id": "7ec6e51b-635c-425b-a316-987f55260ca8",
   "metadata": {},
   "outputs": [
    {
     "data": {
      "text/plain": [
       "[<matplotlib.lines.Line2D at 0x1d301ce5b80>]"
      ]
     },
     "execution_count": 16,
     "metadata": {},
     "output_type": "execute_result"
    },
    {
     "data": {
      "image/png": "[encoded data removed]",
      "text/plain": [
       "<Figure size 432x288 with 1 Axes>"
      ]
     },
     "metadata": {},
     "output_type": "display_data"
    }
   ],
   "source": [
    "plt.plot(duterte.Year, color=\"#444444\", label=\"All Devs\")"
   ]
  },
  {
   "cell_type": "code",
   "execution_count": 18,
   "id": "a7c63338-bac3-4d35-9618-34bfdf506232",
   "metadata": {},
   "outputs": [
    {
     "ename": "AttributeError",
     "evalue": "'list' object has no attribute 'invert_yaxis'",
     "output_type": "error",
     "traceback": [
      "\u001b[1;31m---------------------------------------------------------------------------\u001b[0m",
      "\u001b[1;31mAttributeError\u001b[0m                            Traceback (most recent call last)",
      "\u001b[1;32m~\\AppData\\Local\\Temp/ipykernel_14920/896082637.py\u001b[0m in \u001b[0;36m<module>\u001b[1;34m\u001b[0m\n\u001b[1;32m----> 1\u001b[1;33m \u001b[0mplt\u001b[0m\u001b[1;33m.\u001b[0m\u001b[0mplot\u001b[0m\u001b[1;33m(\u001b[0m\u001b[0mduterte\u001b[0m\u001b[1;33m.\u001b[0m\u001b[0mYear\u001b[0m\u001b[1;33m,\u001b[0m \u001b[0mcolor\u001b[0m\u001b[1;33m=\u001b[0m\u001b[1;34m\"#444444\"\u001b[0m\u001b[1;33m,\u001b[0m \u001b[0mlabel\u001b[0m\u001b[1;33m=\u001b[0m\u001b[1;34m\"All Devs\"\u001b[0m\u001b[1;33m)\u001b[0m\u001b[1;33m.\u001b[0m\u001b[0minvert_yaxis\u001b[0m\u001b[1;33m(\u001b[0m\u001b[1;33m)\u001b[0m\u001b[1;33m\u001b[0m\u001b[1;33m\u001b[0m\u001b[0m\n\u001b[0m",
      "\u001b[1;31mAttributeError\u001b[0m: 'list' object has no attribute 'invert_yaxis'"
     ]
    },
    {
     "data": {
      "image/png": "[encoded data removed]",
      "text/plain": [
       "<Figure size 432x288 with 1 Axes>"
      ]
     },
     "metadata": {},
     "output_type": "display_data"
    }
   ],
   "source": [
    "plt.plot(duterte.Year, color=\"#444444\", label=\"All Devs\").invert_yaxis()"
   ]
  },
  {
   "cell_type": "code",
   "execution_count": 19,
   "id": "660efd8b-606e-403b-b1e6-ece9c0583386",
   "metadata": {},
   "outputs": [
    {
     "data": {
      "image/png": "[encoded data removed]",
      "text/plain": [
       "<Figure size 432x288 with 2 Axes>"
      ]
     },
     "metadata": {},
     "output_type": "display_data"
    }
   ],
   "source": [
    "# importing numpy and matplotlib\n",
    "import numpy as np\n",
    "import matplotlib.pyplot as plt\n",
    "\n",
    "# creating an x sequence\n",
    "x = np.linspace(5, 15, 35)\n",
    "\n",
    "# equation of a straight line\n",
    "y = 3*x+4\n",
    "\n",
    "# creating graph space for two graphs\n",
    "graph, (plot1, plot2) = plt.subplots(1, 2)\n",
    "\n",
    "# plot1 graph for normal axes\n",
    "plot1.plot(x, y)\n",
    "plot1.set_title(\"Normal Plot\")\n",
    "\n",
    "# plot2 graph for inverted axes\n",
    "plot2.plot(x, y)\n",
    "plot2.set_title(\"Inverted Plot\")\n",
    "plt.xlim(max(x), min(x))\n",
    "plt.ylim(max(y), min(y))\n",
    "\n",
    "# display the graph\n",
    "graph.tight_layout()\n",
    "plt.show()\n"
   ]
  },
  {
   "cell_type": "code",
   "execution_count": 20,
   "id": "471a5de0-e446-4b50-bf9c-289d8954e557",
   "metadata": {},
   "outputs": [
    {
     "data": {
      "image/png": "[encoded data removed]",
      "text/plain": [
       "<Figure size 432x288 with 2 Axes>"
      ]
     },
     "metadata": {},
     "output_type": "display_data"
    }
   ],
   "source": [
    "# importing numpy and matplotlib\n",
    "import numpy as np\n",
    "import matplotlib.pyplot as plt\n",
    "\n",
    "# creating an x sequence\n",
    "x = np.linspace(5, 15, 35)\n",
    "\n",
    "# equation of a straight line\n",
    "y = 3*x+4\n",
    "\n",
    "# creating graph space for two graphs\n",
    "graph, (plot1, plot2) = plt.subplots(1, 2)\n",
    "\n",
    "# plot1 graph for normal axes\n",
    "plot1.plot(x, y)\n",
    "plot1.set_title(\"Normal Plot\")\n",
    "\n",
    "# plot2 graph for inverted axes\n",
    "plot2.plot(x, y)\n",
    "plot2.set_title(\"Inverted Plot\")\n",
    "plot2.invert_xaxis()\n",
    "plot2.invert_yaxis()\n",
    "\n",
    "# display the graph\n",
    "graph.tight_layout()\n",
    "plt.show()\n"
   ]
  },
  {
   "cell_type": "code",
   "execution_count": null,
   "id": "9486be17-65bb-4542-9dd2-fb7c415bf75c",
   "metadata": {},
   "outputs": [],
   "source": []
  }
 ],
 "metadata": {
  "kernelspec": {
   "display_name": "Python 3 (ipykernel)",
   "language": "python",
   "name": "python3"
  },
  "language_info": {
   "codemirror_mode": {
    "name": "ipython",
    "version": 3
   },
   "file_extension": ".py",
   "mimetype": "text/x-python",
   "name": "python",
   "nbconvert_exporter": "python",
   "pygments_lexer": "ipython3",
   "version": "3.8.12"
  }
 },
 "nbformat": 4,
 "nbformat_minor": 5
}

{
 "cells": [
  {
   "cell_type": "code",
   "execution_count": 3,
   "id": "b5cb33eb-1033-4ec8-83d6-5d9b01ff58fc",
   "metadata": {},
   "outputs": [],
   "source": [
    "import subprocess\n",
    "import os\n",
    "#from Tkinter import Tk\n",
    "#from tkFileDialog import askopenfilename\n"
   ]
  },
  {
   "cell_type": "code",
   "execution_count": 8,
   "id": "411c63b6-739e-4e77-9ec3-d7efc01e9f0f",
   "metadata": {},
   "outputs": [
    {
     "ename": "SyntaxError",
     "evalue": "invalid syntax (Temp/ipykernel_10668/4024991105.py, line 1)",
     "output_type": "error",
     "traceback": [
      "\u001b[1;36m  File \u001b[1;32m\"C:\\Users\\User\\AppData\\Local\\Temp/ipykernel_10668/4024991105.py\"\u001b[1;36m, line \u001b[1;32m1\u001b[0m\n\u001b[1;33m    def export_to_pdf(Matplotlib-Part5.ipynb):\u001b[0m\n\u001b[1;37m                                ^\u001b[0m\n\u001b[1;31mSyntaxError\u001b[0m\u001b[1;31m:\u001b[0m invalid syntax\n"
     ]
    }
   ],
   "source": [
    "def export_to_pdf(Matplotlib-Part5.ipynb):\n",
    "    fn = export_to_html(Matplotlib-Part5ipynb)\n",
    "    return convert_to_pdf(fn)"
   ]
  },
  {
   "cell_type": "code",
   "execution_count": 9,
   "id": "37cf7788-d42b-40a2-a93e-477ace298e17",
   "metadata": {},
   "outputs": [
    {
     "data": {
      "text/plain": [
       "1"
      ]
     },
     "execution_count": 9,
     "metadata": {},
     "output_type": "execute_result"
    }
   ],
   "source": [
    "import os\n",
    "os.system('jupyter nbconvert --to pdf Matplotlib-Part8.ipynb')"
   ]
  }
 ],
 "metadata": {
  "kernelspec": {
   "display_name": "Python 3 (ipykernel)",
   "language": "python",
   "name": "python3"
  },
  "language_info": {
   "codemirror_mode": {
    "name": "ipython",
    "version": 3
   },
   "file_extension": ".py",
   "mimetype": "text/x-python",
   "name": "python",
   "nbconvert_exporter": "python",
   "pygments_lexer": "ipython3",
   "version": "3.8.12"
  }
 },
 "nbformat": 4,
 "nbformat_minor": 5
}
